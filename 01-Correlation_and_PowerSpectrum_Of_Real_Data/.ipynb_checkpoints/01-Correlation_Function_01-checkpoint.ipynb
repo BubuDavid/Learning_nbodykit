{
 "cells": [
  {
   "cell_type": "code",
   "execution_count": 3,
   "metadata": {},
   "outputs": [],
   "source": [
    "import numpy as np\n",
    "import pandas as pd\n",
    "from nbodykit.source.catalog import CSVCatalog, BinaryCatalog\n",
    "from nbodykit.algorithms.pair_counters import SimulationBoxPairCount"
   ]
  },
  {
   "cell_type": "code",
   "execution_count": 4,
   "metadata": {},
   "outputs": [],
   "source": [
    "# Reading nada \n",
    "data = np.load(\"./data/nmpy/prueba_10k.npy\")\n",
    "data = pd.DataFrame(data)\n",
    "data.to_csv(\"./data/prueba_10k.csv\", index=False)"
   ]
  },
  {
   "cell_type": "code",
   "execution_count": 5,
   "metadata": {},
   "outputs": [
    {
     "name": "stdout",
     "output_type": "stream",
     "text": [
      "{}\n",
      "CSVCatalog(size=10001, FileStack(CSVFile(path=/work/dpsbb/codes/01-Correlation_and_PowerSpectrum_Of_Real_Data/data/prueba_10k.csv, dataset=*, ncolumns=3, shape=(10001,)>, ... 1 files))\n",
      "columns =  ['Position', 'Selection', 'Value', 'Weight', 'x', 'y', 'z']\n",
      "total size =  10001\n"
     ]
    }
   ],
   "source": [
    "columns = [\"x\", \"y\", \"z\"]\n",
    "# read the data\n",
    "f = CSVCatalog('./data/prueba_10k.csv', names=columns, sep=\",\")\n",
    "\n",
    "# combine x, y, z to Position\n",
    "f['Position'] = f['x'][:, None] * [1, 0, 0] + f['y'][:, None] * [0, 1, 0] + f['z'][:, None] * [0, 0, 1]\n",
    "print(f.attrs)\n",
    "print(f)\n",
    "print(\"columns = \", f.columns) # default Weight,Selection also present\n",
    "print(\"total size = \", f.csize)"
   ]
  },
  {
   "cell_type": "code",
   "execution_count": 7,
   "metadata": {},
   "outputs": [
    {
     "data": {
      "text/html": [
       "<table>\n",
       "<tr>\n",
       "<td>\n",
       "<table>\n",
       "  <thead>\n",
       "    <tr><td> </td><th> Array </th><th> Chunk </th></tr>\n",
       "  </thead>\n",
       "  <tbody>\n",
       "    <tr><th> Bytes </th><td> 240.02 kB </td> <td> 240.02 kB </td></tr>\n",
       "    <tr><th> Shape </th><td> (10001, 3) </td> <td> (10001, 3) </td></tr>\n",
       "    <tr><th> Count </th><td> 17 Tasks </td><td> 1 Chunks </td></tr>\n",
       "    <tr><th> Type </th><td> float64 </td><td> numpy.ndarray </td></tr>\n",
       "  </tbody>\n",
       "</table>\n",
       "</td>\n",
       "<td>\n",
       "<svg width=\"75\" height=\"170\" style=\"stroke:rgb(0,0,0);stroke-width:1\" >\n",
       "\n",
       "  <!-- Horizontal lines -->\n",
       "  <line x1=\"0\" y1=\"0\" x2=\"25\" y2=\"0\" style=\"stroke-width:2\" />\n",
       "  <line x1=\"0\" y1=\"120\" x2=\"25\" y2=\"120\" style=\"stroke-width:2\" />\n",
       "\n",
       "  <!-- Vertical lines -->\n",
       "  <line x1=\"0\" y1=\"0\" x2=\"0\" y2=\"120\" style=\"stroke-width:2\" />\n",
       "  <line x1=\"25\" y1=\"0\" x2=\"25\" y2=\"120\" style=\"stroke-width:2\" />\n",
       "\n",
       "  <!-- Colored Rectangle -->\n",
       "  <polygon points=\"0.0,0.0 25.412616514582485,0.0 25.412616514582485,120.0 0.0,120.0\" style=\"fill:#ECB172A0;stroke-width:0\"/>\n",
       "\n",
       "  <!-- Text -->\n",
       "  <text x=\"12.706308\" y=\"140.000000\" font-size=\"1.0rem\" font-weight=\"100\" text-anchor=\"middle\" >3</text>\n",
       "  <text x=\"45.412617\" y=\"60.000000\" font-size=\"1.0rem\" font-weight=\"100\" text-anchor=\"middle\" transform=\"rotate(-90,45.412617,60.000000)\">10001</text>\n",
       "</svg>\n",
       "</td>\n",
       "</tr>\n",
       "</table>"
      ],
      "text/plain": [
       "dask.array<add, shape=(10001, 3), dtype=float64, chunksize=(10001, 3), chunktype=numpy.ndarray>"
      ]
     },
     "execution_count": 7,
     "metadata": {},
     "output_type": "execute_result"
    }
   ],
   "source": [
    "f[\"Position\"]"
   ]
  },
  {
   "cell_type": "code",
   "execution_count": 20,
   "metadata": {},
   "outputs": [],
   "source": [
    "l = 120.\n",
    "n_bins = 30\n",
    "bins = np.array([(x+1)*(l)/n_bins for x in range(n_bins+1)])\n",
    "corr = SimulationBoxPairCount(mode=\"1d\", first=f, show_progress=True, edges= bins, BoxSize=512.)"
   ]
  },
  {
   "cell_type": "code",
   "execution_count": 25,
   "metadata": {},
   "outputs": [],
   "source": [
    "corr.save(\"./results/correlation.json\")"
   ]
  },
  {
   "cell_type": "code",
   "execution_count": null,
   "metadata": {},
   "outputs": [],
   "source": []
  }
 ],
 "metadata": {
  "kernelspec": {
   "display_name": "Python 3",
   "language": "python",
   "name": "python3"
  },
  "language_info": {
   "codemirror_mode": {
    "name": "ipython",
    "version": 3
   },
   "file_extension": ".py",
   "mimetype": "text/x-python",
   "name": "python",
   "nbconvert_exporter": "python",
   "pygments_lexer": "ipython3",
   "version": "3.8.5"
  }
 },
 "nbformat": 4,
 "nbformat_minor": 4
}
