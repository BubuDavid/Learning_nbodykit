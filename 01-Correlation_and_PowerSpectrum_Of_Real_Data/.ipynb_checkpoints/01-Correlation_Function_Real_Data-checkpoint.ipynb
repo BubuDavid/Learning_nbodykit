{
 "cells": [
  {
   "cell_type": "code",
   "execution_count": 13,
   "metadata": {},
   "outputs": [],
   "source": [
    "import numpy as np\n",
    "import pandas as pd\n",
    "from nbodykit.source.catalog import CSVCatalog, BinaryCatalog\n",
    "from nbodykit.algorithms.paircount_tpcf.tpcf import SimulationBox2PCF\n",
    "from nbodykit.lab import UniformCatalog\n",
    "import matplotlib.pyplot as plt"
   ]
  },
  {
   "cell_type": "markdown",
   "metadata": {},
   "source": [
    "# Own functions "
   ]
  },
  {
   "cell_type": "code",
   "execution_count": 14,
   "metadata": {},
   "outputs": [],
   "source": [
    "def graphFunction(x,y, color=[\"purple\",\"blue\"], labels=[\"x\",\"y\"], titulo=\"\", scatter=False, corte=[0,-1], limite=[]):\n",
    "    '''\n",
    "    Descripción: Función que grafica y con respecto a x\n",
    "    IN = {\n",
    "        x: Variable independiente.\n",
    "        y: Variable dependiente.\n",
    "        color: El color de la gráfica.\n",
    "        labels: El nombre de las variables.\n",
    "        titulo: El título\n",
    "        scatter: Si es que se quieren resaltar los puntos\n",
    "    }\n",
    "    Out: Una bonita gráfica x-y\n",
    "    '''\n",
    "    # Creamos el objeto figura y nuestro ax.\n",
    "    fig, ax = plt.subplots(figsize = (5, 3))\n",
    "    # ponemos título\n",
    "    ax.set_title(titulo)\n",
    "    # Graficamos\n",
    "    if scatter:\n",
    "        ax.scatter(x[corte[0]:corte[1]],y[corte[0]:corte[1]], marker='.', c=color[1])\n",
    "    ax.plot(x[corte[0]:corte[1]], y[corte[0]:corte[1]], color=color[0]) # Graficamos\n",
    "    ax.set_xlabel(labels[0]) # Asignamos nombres a los labels\n",
    "    ax.set_ylabel(labels[1]) # Asignamos nombres a los labels\n",
    "    if limite != []:\n",
    "        plt.ylim(top = max(limite), bottom= min(limite))\n",
    "    ax.grid() # Con cuadrícula"
   ]
  },
  {
   "cell_type": "markdown",
   "metadata": {},
   "source": [
    "# Algorithms "
   ]
  },
  {
   "cell_type": "code",
   "execution_count": 15,
   "metadata": {},
   "outputs": [
    {
     "name": "stdout",
     "output_type": "stream",
     "text": [
      "CSVCatalog(size=2097152, FileStack(CSVFile(path=/work/dpsbb/codes/01-Correlation_and_PowerSpectrum_Of_Real_Data/data/example_128_z0p000.0, dataset=*, ncolumns=6, shape=(217309,)>, ... 10 files))\n",
      "['Position', 'Selection', 'Value', 'Weight', 'vx', 'vy', 'vz', 'x', 'y', 'z']\n"
     ]
    }
   ],
   "source": [
    "columns = [\"x\", \"y\", \"z\", \"vx\", \"vy\", \"vz\"]\n",
    "# read the data\n",
    "f = CSVCatalog('./data/example_128_z0p000.*', columns)\n",
    "\n",
    "# combine x, y, z to Position\n",
    "f['Position'] = f['x'][:, None] * [1, 0, 0] + f['y'][:, None] * [0, 1, 0] + f['z'][:, None] * [0, 0, 1]\n",
    "f.attrs[\"BoxSize\"] = [512., 512., 512.]\n",
    "print(f)\n",
    "print(f.columns)"
   ]
  },
  {
   "cell_type": "code",
   "execution_count": 16,
   "metadata": {},
   "outputs": [],
   "source": [
    "random_cat = UniformCatalog(nbar=512/20000, BoxSize=512.)"
   ]
  },
  {
   "cell_type": "code",
   "execution_count": null,
   "metadata": {},
   "outputs": [],
   "source": [
    "L = 160\n",
    "nbins = 60\n",
    "bins = np.array([(Bin+1)*L/nbins for Bin in range(nbins+1)])\n",
    "corr = SimulationBox2PCF(mode=\"1d\", data1=f, show_progress=True, edges= bins, BoxSize=512.)"
   ]
  },
  {
   "cell_type": "code",
   "execution_count": 6,
   "metadata": {},
   "outputs": [
    {
     "data": {
      "text/plain": [
       "{'mode': '1d',\n",
       " 'edges': array([  2.66666667,   5.33333333,   8.        ,  10.66666667,\n",
       "         13.33333333,  16.        ,  18.66666667,  21.33333333,\n",
       "         24.        ,  26.66666667,  29.33333333,  32.        ,\n",
       "         34.66666667,  37.33333333,  40.        ,  42.66666667,\n",
       "         45.33333333,  48.        ,  50.66666667,  53.33333333,\n",
       "         56.        ,  58.66666667,  61.33333333,  64.        ,\n",
       "         66.66666667,  69.33333333,  72.        ,  74.66666667,\n",
       "         77.33333333,  80.        ,  82.66666667,  85.33333333,\n",
       "         88.        ,  90.66666667,  93.33333333,  96.        ,\n",
       "         98.66666667, 101.33333333, 104.        , 106.66666667,\n",
       "        109.33333333, 112.        , 114.66666667, 117.33333333,\n",
       "        120.        , 122.66666667, 125.33333333, 128.        ,\n",
       "        130.66666667, 133.33333333, 136.        , 138.66666667,\n",
       "        141.33333333, 144.        , 146.66666667, 149.33333333,\n",
       "        152.        , 154.66666667, 157.33333333, 160.        ,\n",
       "        162.66666667]),\n",
       " 'Nmu': None,\n",
       " 'pimax': None,\n",
       " 'periodic': True,\n",
       " 'BoxSize': 512.0,\n",
       " 'los': 'z',\n",
       " 'weight': 'Weight',\n",
       " 'position': 'Position',\n",
       " 'show_progress': True,\n",
       " 'config': {}}"
      ]
     },
     "execution_count": 6,
     "metadata": {},
     "output_type": "execute_result"
    }
   ],
   "source": [
    "corr.attrs"
   ]
  },
  {
   "cell_type": "code",
   "execution_count": 7,
   "metadata": {},
   "outputs": [
    {
     "data": {
      "text/plain": [
       "<WedgeBinnedStatistic: dims: (r: 60), variables: ('corr', 'r')>"
      ]
     },
     "execution_count": 7,
     "metadata": {},
     "output_type": "execute_result"
    }
   ],
   "source": [
    "corr.corr"
   ]
  },
  {
   "cell_type": "code",
   "execution_count": 11,
   "metadata": {},
   "outputs": [
    {
     "data": {
      "image/png": "[encoded data removed]",
      "text/plain": [
       "<Figure size 360x216 with 1 Axes>"
      ]
     },
     "metadata": {
      "needs_background": "light"
     },
     "output_type": "display_data"
    }
   ],
   "source": [
    "graphFunction(corr.corr[\"r\"], corr.corr[\"corr\"], labels=[\"r\", \"ξ(r)\"])"
   ]
  },
  {
   "cell_type": "code",
   "execution_count": 12,
   "metadata": {},
   "outputs": [
    {
     "data": {
      "image/png": "[encoded data removed]",
      "text/plain": [
       "<Figure size 360x216 with 1 Axes>"
      ]
     },
     "metadata": {
      "needs_background": "light"
     },
     "output_type": "display_data"
    }
   ],
   "source": [
    "graphFunction(corr.corr[\"r\"], corr.corr[\"r\"]**2 * corr.corr[\"corr\"], labels=[\"r\", \"r^2 ξ(r)\"])"
   ]
  },
  {
   "cell_type": "code",
   "execution_count": null,
   "metadata": {},
   "outputs": [],
   "source": []
  }
 ],
 "metadata": {
  "kernelspec": {
   "display_name": "Python 3",
   "language": "python",
   "name": "python3"
  },
  "language_info": {
   "codemirror_mode": {
    "name": "ipython",
    "version": 3
   },
   "file_extension": ".py",
   "mimetype": "text/x-python",
   "name": "python",
   "nbconvert_exporter": "python",
   "pygments_lexer": "ipython3",
   "version": "3.8.5"
  }
 },
 "nbformat": 4,
 "nbformat_minor": 4
}
