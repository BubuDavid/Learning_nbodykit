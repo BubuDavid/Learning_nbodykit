{
 "cells": [
  {
   "cell_type": "code",
   "execution_count": 58,
   "metadata": {},
   "outputs": [],
   "source": [
    "import numpy as np\n",
    "import pandas as pd\n",
    "from nbodykit.source.catalog import CSVCatalog, BinaryCatalog\n",
    "from nbodykit.algorithms.pair_counters import SimulationBoxPairCount\n",
    "from nbodykit.lab import UniformCatalog\n",
    "import matplotlib.pyplot as plt"
   ]
  },
  {
   "cell_type": "markdown",
   "metadata": {},
   "source": [
    "# Own functions "
   ]
  },
  {
   "cell_type": "code",
   "execution_count": 59,
   "metadata": {},
   "outputs": [],
   "source": [
    "def graphFunction(x,y, color=[\"purple\",\"blue\"], labels=[\"x\",\"y\"], titulo=\"\", scatter=False, corte=[0,-1], limite=[]):\n",
    "    '''\n",
    "    Descripción: Función que grafica y con respecto a x\n",
    "    IN = {\n",
    "        x: Variable independiente.\n",
    "        y: Variable dependiente.\n",
    "        color: El color de la gráfica.\n",
    "        labels: El nombre de las variables.\n",
    "        titulo: El título\n",
    "        scatter: Si es que se quieren resaltar los puntos\n",
    "    }\n",
    "    Out: Una bonita gráfica x-y\n",
    "    '''\n",
    "    # Creamos el objeto figura y nuestro ax.\n",
    "    fig, ax = plt.subplots(figsize = (5, 3))\n",
    "    # ponemos título\n",
    "    ax.set_title(titulo)\n",
    "    # Graficamos\n",
    "    if scatter:\n",
    "        ax.scatter(x[corte[0]:corte[1]],y[corte[0]:corte[1]], marker='.', c=color[0])\n",
    "    ax.plot(x[corte[0]:corte[1]], y[corte[0]:corte[1]], color=color[1]) # Graficamos\n",
    "    ax.set_xlabel(labels[0]) # Asignamos nombres a los labels\n",
    "    ax.set_ylabel(labels[1]) # Asignamos nombres a los labels\n",
    "    if limite != []:\n",
    "        plt.ylim(top = max(limite), bottom= min(limite))\n",
    "    ax.grid() # Con cuadrícula"
   ]
  },
  {
   "cell_type": "markdown",
   "metadata": {},
   "source": [
    "# Algorithms "
   ]
  },
  {
   "cell_type": "code",
   "execution_count": 60,
   "metadata": {},
   "outputs": [],
   "source": [
    "# Reading nada \n",
    "data = np.load(\"./data/nmpy/prueba_20k.npy\")\n",
    "data = pd.DataFrame(data)\n",
    "data.to_csv(\"./data/prueba_20k.csv\", index=False)"
   ]
  },
  {
   "cell_type": "code",
   "execution_count": 61,
   "metadata": {},
   "outputs": [
    {
     "name": "stdout",
     "output_type": "stream",
     "text": [
      "CSVCatalog(size=20001, FileStack(CSVFile(path=/work/dpsbb/codes/01-Correlation_and_PowerSpectrum_Of_Real_Data/data/prueba_20k.csv, dataset=*, ncolumns=3, shape=(20001,)>, ... 1 files))\n"
     ]
    }
   ],
   "source": [
    "columns = [\"x\", \"y\", \"z\"]\n",
    "# read the data\n",
    "f = CSVCatalog('./data/prueba_20k.csv', names=columns, sep=\",\")\n",
    "\n",
    "# combine x, y, z to Position\n",
    "f['Position'] = f['x'][:, None] * [1, 0, 0] + f['y'][:, None] * [0, 1, 0] + f['z'][:, None] * [0, 0, 1]\n",
    "print(f)"
   ]
  },
  {
   "cell_type": "code",
   "execution_count": 63,
   "metadata": {},
   "outputs": [],
   "source": [
    "# Create a cube\n",
    "randomCat = UniformCatalog(nbar=512/20000, BoxSize=512)"
   ]
  },
  {
   "cell_type": "code",
   "execution_count": 64,
   "metadata": {},
   "outputs": [],
   "source": [
    "l = 120.\n",
    "n_bins = 30\n",
    "bins = np.array([(x+1)*(l)/n_bins for x in range(n_bins+1)])\n",
    "corr = SimulationBoxPairCount(mode=\"1d\", first=f, show_progress=True, edges= bins, BoxSize=512., second=randomCat)"
   ]
  },
  {
   "cell_type": "code",
   "execution_count": 65,
   "metadata": {},
   "outputs": [
    {
     "data": {
      "text/plain": [
       "{'mode': '1d',\n",
       " 'edges': array([  4.,   8.,  12.,  16.,  20.,  24.,  28.,  32.,  36.,  40.,  44.,\n",
       "         48.,  52.,  56.,  60.,  64.,  68.,  72.,  76.,  80.,  84.,  88.,\n",
       "         92.,  96., 100., 104., 108., 112., 116., 120., 124.]),\n",
       " 'Nmu': None,\n",
       " 'pimax': None,\n",
       " 'show_progress': True,\n",
       " 'N1': 20001,\n",
       " 'N2': 3437524,\n",
       " 'total_wnpairs': 34376958762.0,\n",
       " 'is_cross': True,\n",
       " 'BoxSize': array([512., 512., 512.]),\n",
       " 'periodic': True,\n",
       " 'weight': 'Weight',\n",
       " 'position': 'Position',\n",
       " 'config': {},\n",
       " 'los': 2}"
      ]
     },
     "execution_count": 65,
     "metadata": {},
     "output_type": "execute_result"
    }
   ],
   "source": [
    "corr.attrs"
   ]
  },
  {
   "cell_type": "code",
   "execution_count": 66,
   "metadata": {},
   "outputs": [
    {
     "name": "stdout",
     "output_type": "stream",
     "text": [
      "['r', 'npairs', 'wnpairs']\n",
      "[   963336   2607329   5080908   8383570  12496286  17444196  23214533\n",
      "  29811520  37212266  45452069  54517790  64408897  75094038  86648378\n",
      "  98990029 112203195 126188130 141013208 156662738 173166396 190464403\n",
      " 208593002 227519594 247334629 267942580 289340433 311608893 334702638\n",
      " 358572227 383247551]\n",
      "[9.63336000e+05 2.60732900e+06 5.08090800e+06 8.38357000e+06\n",
      " 1.24962860e+07 1.74441960e+07 2.32145330e+07 2.98115200e+07\n",
      " 3.72122660e+07 4.54520690e+07 5.45177900e+07 6.44088970e+07\n",
      " 7.50940380e+07 8.66483780e+07 9.89900290e+07 1.12203195e+08\n",
      " 1.26188130e+08 1.41013208e+08 1.56662738e+08 1.73166396e+08\n",
      " 1.90464403e+08 2.08593002e+08 2.27519594e+08 2.47334629e+08\n",
      " 2.67942580e+08 2.89340433e+08 3.11608893e+08 3.34702638e+08\n",
      " 3.58572227e+08 3.83247551e+08]\n",
      "[  6.42911227  10.26431475  14.18988748  18.14720641  22.12025405\n",
      "  26.10245206  30.08869524  34.07857296  38.07005193  42.0636441\n",
      "  46.0577786   50.05314263  54.04922456  58.04594798  62.04323376\n",
      "  66.04015458  70.0380907   74.03601244  78.03447269  82.03243776\n",
      "  86.03106007  90.02962288  94.02821348  98.02713479 102.02611019\n",
      " 106.02512415 110.02411983 114.02344324 118.02265268 122.02190527]\n"
     ]
    }
   ],
   "source": [
    "print(corr.pairs.variables)\n",
    "print(corr.pairs[\"npairs\"])\n",
    "print(corr.pairs[\"wnpairs\"])\n",
    "print(corr.pairs[\"r\"])"
   ]
  },
  {
   "cell_type": "code",
   "execution_count": 70,
   "metadata": {},
   "outputs": [
    {
     "data": {
      "image/png": "[encoded data removed]",
      "text/plain": [
       "<Figure size 360x216 with 1 Axes>"
      ]
     },
     "metadata": {
      "needs_background": "light"
     },
     "output_type": "display_data"
    }
   ],
   "source": [
    "graphFunction(corr.pairs[\"r\"], corr.pairs[\"npairs\"], labels=[\"r\", \"ξ(r)\"])"
   ]
  },
  {
   "cell_type": "code",
   "execution_count": null,
   "metadata": {},
   "outputs": [],
   "source": []
  }
 ],
 "metadata": {
  "kernelspec": {
   "display_name": "Python 3",
   "language": "python",
   "name": "python3"
  },
  "language_info": {
   "codemirror_mode": {
    "name": "ipython",
    "version": 3
   },
   "file_extension": ".py",
   "mimetype": "text/x-python",
   "name": "python",
   "nbconvert_exporter": "python",
   "pygments_lexer": "ipython3",
   "version": "3.8.5"
  }
 },
 "nbformat": 4,
 "nbformat_minor": 4
}
